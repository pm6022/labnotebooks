{
  "nbformat": 4,
  "nbformat_minor": 0,
  "metadata": {
    "colab": {
      "name": "co2.ipynb",
      "provenance": []
    },
    "kernelspec": {
      "name": "python3",
      "display_name": "Python 3"
    },
    "language_info": {
      "name": "python"
    }
  },
  "cells": [
    {
      "cell_type": "code",
      "metadata": {
        "colab": {
          "base_uri": "https://localhost:8080/"
        },
        "id": "WjZ9xl-uBJdO",
        "outputId": "34c648f7-2030-4646-8e72-bbbe316394f9"
      },
      "source": [
        "!apt-get install lammps"
      ],
      "execution_count": 1,
      "outputs": [
        {
          "output_type": "stream",
          "text": [
            "Reading package lists... Done\n",
            "Building dependency tree       \n",
            "Reading state information... Done\n",
            "The following additional packages will be installed:\n",
            "  fonts-mathjax javascript-common lammps-doc libjs-jquery libjs-mathjax\n",
            "  libjs-underscore\n",
            "Suggested packages:\n",
            "  apache2 | lighttpd | httpd fonts-mathjax-extras fonts-stix libjs-mathjax-doc\n",
            "The following NEW packages will be installed:\n",
            "  fonts-mathjax javascript-common lammps lammps-doc libjs-jquery libjs-mathjax\n",
            "  libjs-underscore\n",
            "0 upgraded, 7 newly installed, 0 to remove and 31 not upgraded.\n",
            "Need to get 52.0 MB of archives.\n",
            "After this operation, 113 MB of additional disk space will be used.\n",
            "Get:1 http://archive.ubuntu.com/ubuntu bionic/universe amd64 fonts-mathjax all 2.7.3+dfsg-1 [2,208 kB]\n",
            "Get:2 http://archive.ubuntu.com/ubuntu bionic/main amd64 javascript-common all 11 [6,066 B]\n",
            "Get:3 http://archive.ubuntu.com/ubuntu bionic/main amd64 libjs-jquery all 3.2.1-1 [152 kB]\n",
            "Get:4 http://archive.ubuntu.com/ubuntu bionic/main amd64 libjs-underscore all 1.8.3~dfsg-1 [59.9 kB]\n",
            "Get:5 http://archive.ubuntu.com/ubuntu bionic/universe amd64 lammps amd64 0~20161109.git9806da6-7 [3,896 kB]\n",
            "Get:6 http://archive.ubuntu.com/ubuntu bionic/universe amd64 libjs-mathjax all 2.7.3+dfsg-1 [5,653 kB]\n",
            "Get:7 http://archive.ubuntu.com/ubuntu bionic/universe amd64 lammps-doc all 0~20161109.git9806da6-7 [40.0 MB]\n",
            "Fetched 52.0 MB in 4s (13.5 MB/s)\n",
            "Selecting previously unselected package fonts-mathjax.\n",
            "(Reading database ... 160983 files and directories currently installed.)\n",
            "Preparing to unpack .../0-fonts-mathjax_2.7.3+dfsg-1_all.deb ...\n",
            "Unpacking fonts-mathjax (2.7.3+dfsg-1) ...\n",
            "Selecting previously unselected package javascript-common.\n",
            "Preparing to unpack .../1-javascript-common_11_all.deb ...\n",
            "Unpacking javascript-common (11) ...\n",
            "Selecting previously unselected package libjs-jquery.\n",
            "Preparing to unpack .../2-libjs-jquery_3.2.1-1_all.deb ...\n",
            "Unpacking libjs-jquery (3.2.1-1) ...\n",
            "Selecting previously unselected package libjs-underscore.\n",
            "Preparing to unpack .../3-libjs-underscore_1.8.3~dfsg-1_all.deb ...\n",
            "Unpacking libjs-underscore (1.8.3~dfsg-1) ...\n",
            "Selecting previously unselected package lammps.\n",
            "Preparing to unpack .../4-lammps_0~20161109.git9806da6-7_amd64.deb ...\n",
            "Unpacking lammps (0~20161109.git9806da6-7) ...\n",
            "Selecting previously unselected package libjs-mathjax.\n",
            "Preparing to unpack .../5-libjs-mathjax_2.7.3+dfsg-1_all.deb ...\n",
            "Unpacking libjs-mathjax (2.7.3+dfsg-1) ...\n",
            "Selecting previously unselected package lammps-doc.\n",
            "Preparing to unpack .../6-lammps-doc_0~20161109.git9806da6-7_all.deb ...\n",
            "Unpacking lammps-doc (0~20161109.git9806da6-7) ...\n",
            "Setting up libjs-jquery (3.2.1-1) ...\n",
            "Setting up fonts-mathjax (2.7.3+dfsg-1) ...\n",
            "Setting up libjs-underscore (1.8.3~dfsg-1) ...\n",
            "Setting up libjs-mathjax (2.7.3+dfsg-1) ...\n",
            "Setting up lammps-doc (0~20161109.git9806da6-7) ...\n",
            "Setting up lammps (0~20161109.git9806da6-7) ...\n",
            "Setting up javascript-common (11) ...\n",
            "Processing triggers for man-db (2.8.3-2ubuntu0.1) ...\n",
            "Processing triggers for fontconfig (2.12.6-0ubuntu2) ...\n"
          ],
          "name": "stdout"
        }
      ]
    },
    {
      "cell_type": "code",
      "metadata": {
        "id": "56cnegyTBQY4"
      },
      "source": [
        "#prova"
      ],
      "execution_count": null,
      "outputs": []
    }
  ]
}