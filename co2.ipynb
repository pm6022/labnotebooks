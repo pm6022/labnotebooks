{
  "nbformat": 4,
  "nbformat_minor": 0,
  "metadata": {
    "colab": {
      "name": "co2.ipynb",
      "provenance": [],
      "authorship_tag": "ABX9TyOwNf20L8QN1CKAU+pA8qHI",
      "include_colab_link": true
    },
    "kernelspec": {
      "name": "python3",
      "display_name": "Python 3"
    },
    "language_info": {
      "name": "python"
    }
  },
  "cells": [
    {
      "cell_type": "markdown",
      "metadata": {
        "id": "view-in-github",
        "colab_type": "text"
      },
      "source": [
        "<a href=\"https://colab.research.google.com/github/pm6022/labnotebooks/blob/main/co2.ipynb\" target=\"_parent\"><img src=\"https://colab.research.google.com/assets/colab-badge.svg\" alt=\"Open In Colab\"/></a>"
      ]
    },
    {
      "cell_type": "code",
      "metadata": {
        "id": "WjZ9xl-uBJdO"
      },
      "source": [
        "!apt-get install lammps"
      ],
      "execution_count": null,
      "outputs": []
    },
    {
      "cell_type": "code",
      "metadata": {
        "id": "56cnegyTBQY4"
      },
      "source": [
        "#prova"
      ],
      "execution_count": null,
      "outputs": []
    }
  ]
}