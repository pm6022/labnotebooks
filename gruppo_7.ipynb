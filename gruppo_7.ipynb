{
  "nbformat": 4,
  "nbformat_minor": 0,
  "metadata": {
    "colab": {
      "name": "gruppo_7.ipynb",
      "provenance": [],
      "authorship_tag": "ABX9TyMZQuQvbim6uLEG74r3ZiHt",
      "include_colab_link": true
    },
    "kernelspec": {
      "name": "python3",
      "display_name": "Python 3"
    },
    "language_info": {
      "name": "python"
    }
  },
  "cells": [
    {
      "cell_type": "markdown",
      "metadata": {
        "id": "view-in-github",
        "colab_type": "text"
      },
      "source": [
        "<a href=\"https://colab.research.google.com/github/pm6022/labnotebooks/blob/main/gruppo_7.ipynb\" target=\"_parent\"><img src=\"https://colab.research.google.com/assets/colab-badge.svg\" alt=\"Open In Colab\"/></a>"
      ]
    },
    {
      "cell_type": "markdown",
      "metadata": {
        "id": "ZHPr_2nsJiRd"
      },
      "source": [
        "# Setup "
      ]
    },
    {
      "cell_type": "markdown",
      "metadata": {
        "id": "HN4YZaeiKIqk"
      },
      "source": [
        "## Download scripts and results"
      ]
    },
    {
      "cell_type": "code",
      "metadata": {
        "id": "dvR6ElqlupWP",
        "colab": {
          "base_uri": "https://localhost:8080/"
        },
        "outputId": "a4604f06-efc1-4ee0-fa6a-c6d184b32b72"
      },
      "source": [
        "!git clone https://github.com/pm6022/gruppo_7"
      ],
      "execution_count": 16,
      "outputs": [
        {
          "output_type": "stream",
          "text": [
            "fatal: destination path 'gruppo_7' already exists and is not an empty directory.\n"
          ],
          "name": "stdout"
        }
      ]
    },
    {
      "cell_type": "markdown",
      "metadata": {
        "id": "aCup33VKKQN_"
      },
      "source": [
        "## Download LAMMPS"
      ]
    },
    {
      "cell_type": "code",
      "metadata": {
        "colab": {
          "base_uri": "https://localhost:8080/"
        },
        "id": "QGcXS1pX6byh",
        "outputId": "8deb9fd2-4241-4fcd-c328-9f9923dc1732"
      },
      "source": [
        "!apt-get install lammps"
      ],
      "execution_count": 13,
      "outputs": [
        {
          "output_type": "stream",
          "text": [
            "Reading package lists... Done\n",
            "Building dependency tree       \n",
            "Reading state information... Done\n",
            "The following package was automatically installed and is no longer required:\n",
            "  libnvidia-common-460\n",
            "Use 'apt autoremove' to remove it.\n",
            "The following additional packages will be installed:\n",
            "  fonts-mathjax javascript-common lammps-doc libjs-jquery libjs-mathjax\n",
            "  libjs-underscore\n",
            "Suggested packages:\n",
            "  apache2 | lighttpd | httpd fonts-mathjax-extras fonts-stix libjs-mathjax-doc\n",
            "The following NEW packages will be installed:\n",
            "  fonts-mathjax javascript-common lammps lammps-doc libjs-jquery libjs-mathjax\n",
            "  libjs-underscore\n",
            "0 upgraded, 7 newly installed, 0 to remove and 34 not upgraded.\n",
            "Need to get 52.0 MB of archives.\n",
            "After this operation, 113 MB of additional disk space will be used.\n",
            "Get:1 http://archive.ubuntu.com/ubuntu bionic/universe amd64 fonts-mathjax all 2.7.3+dfsg-1 [2,208 kB]\n",
            "Get:2 http://archive.ubuntu.com/ubuntu bionic/main amd64 javascript-common all 11 [6,066 B]\n",
            "Get:3 http://archive.ubuntu.com/ubuntu bionic/main amd64 libjs-jquery all 3.2.1-1 [152 kB]\n",
            "Get:4 http://archive.ubuntu.com/ubuntu bionic-updates/main amd64 libjs-underscore all 1.8.3~dfsg-1ubuntu0.1 [60.4 kB]\n",
            "Get:5 http://archive.ubuntu.com/ubuntu bionic/universe amd64 lammps amd64 0~20161109.git9806da6-7 [3,896 kB]\n",
            "Get:6 http://archive.ubuntu.com/ubuntu bionic/universe amd64 libjs-mathjax all 2.7.3+dfsg-1 [5,653 kB]\n",
            "Get:7 http://archive.ubuntu.com/ubuntu bionic/universe amd64 lammps-doc all 0~20161109.git9806da6-7 [40.0 MB]\n",
            "Fetched 52.0 MB in 7s (7,326 kB/s)\n",
            "Selecting previously unselected package fonts-mathjax.\n",
            "(Reading database ... 160706 files and directories currently installed.)\n",
            "Preparing to unpack .../0-fonts-mathjax_2.7.3+dfsg-1_all.deb ...\n",
            "Unpacking fonts-mathjax (2.7.3+dfsg-1) ...\n",
            "Selecting previously unselected package javascript-common.\n",
            "Preparing to unpack .../1-javascript-common_11_all.deb ...\n",
            "Unpacking javascript-common (11) ...\n",
            "Selecting previously unselected package libjs-jquery.\n",
            "Preparing to unpack .../2-libjs-jquery_3.2.1-1_all.deb ...\n",
            "Unpacking libjs-jquery (3.2.1-1) ...\n",
            "Selecting previously unselected package libjs-underscore.\n",
            "Preparing to unpack .../3-libjs-underscore_1.8.3~dfsg-1ubuntu0.1_all.deb ...\n",
            "Unpacking libjs-underscore (1.8.3~dfsg-1ubuntu0.1) ...\n",
            "Selecting previously unselected package lammps.\n",
            "Preparing to unpack .../4-lammps_0~20161109.git9806da6-7_amd64.deb ...\n",
            "Unpacking lammps (0~20161109.git9806da6-7) ...\n",
            "Selecting previously unselected package libjs-mathjax.\n",
            "Preparing to unpack .../5-libjs-mathjax_2.7.3+dfsg-1_all.deb ...\n",
            "Unpacking libjs-mathjax (2.7.3+dfsg-1) ...\n",
            "Selecting previously unselected package lammps-doc.\n",
            "Preparing to unpack .../6-lammps-doc_0~20161109.git9806da6-7_all.deb ...\n",
            "Unpacking lammps-doc (0~20161109.git9806da6-7) ...\n",
            "Setting up libjs-jquery (3.2.1-1) ...\n",
            "Setting up fonts-mathjax (2.7.3+dfsg-1) ...\n",
            "Setting up libjs-underscore (1.8.3~dfsg-1ubuntu0.1) ...\n",
            "Setting up libjs-mathjax (2.7.3+dfsg-1) ...\n",
            "Setting up lammps-doc (0~20161109.git9806da6-7) ...\n",
            "Setting up lammps (0~20161109.git9806da6-7) ...\n",
            "Setting up javascript-common (11) ...\n",
            "Processing triggers for man-db (2.8.3-2ubuntu0.1) ...\n",
            "Processing triggers for fontconfig (2.12.6-0ubuntu2) ...\n"
          ],
          "name": "stdout"
        }
      ]
    },
    {
      "cell_type": "markdown",
      "metadata": {
        "id": "NoWv7cG1MA3A"
      },
      "source": [
        "## Compute parameters"
      ]
    },
    {
      "cell_type": "markdown",
      "metadata": {
        "id": "cI1kc_BcF41h"
      },
      "source": [
        "$\\frac{\\epsilon}{k_B} = \\frac{T_C}{1.32}$\n",
        "\n",
        "$\\sigma = \\biggl(\\frac{0.129 \\epsilon}{P_C}\\biggr)^{(1/3)}$\n",
        "\n",
        "$T_C = 593,75 K$\n",
        "\n",
        "$P_C = 41,6 atm$"
      ]
    },
    {
      "cell_type": "code",
      "metadata": {
        "colab": {
          "base_uri": "https://localhost:8080/"
        },
        "id": "oStE9uZCAX26",
        "outputId": "1bfb8e7f-e975-4088-9fa6-2cde254a02f9"
      },
      "source": [
        "Tc = 593.75 # K\n",
        "Pc = 41.6 # atm\n",
        "kb = 0.001985875\t# kcal/(K * mol)\n",
        "N = 1000\n",
        "Na = 6.022*10**(23) \n",
        "rho = 8.7 # kg/cum\n",
        "PM = 92.14\n",
        "\n",
        "eps = kb*Tc/1.32\n",
        "sigma = (0.129*eps/Pc)**(1/3)\n",
        "\n",
        "V = (N/Na*PM/1000)/rho*10**(30)\n",
        "L = V**(1/3)\n",
        "\n",
        "print('eps :', eps)\n",
        "print('sigma :', sigma)\n",
        "print('V :', V)\n",
        "print('L :', L)"
      ],
      "execution_count": null,
      "outputs": [
        {
          "output_type": "stream",
          "text": [
            "eps : 0.8932676373106059\n",
            "sigma : 0.14044059471712117\n",
            "V : 17586855.858022504\n",
            "L : 260.0535188547352\n"
          ],
          "name": "stdout"
        }
      ]
    },
    {
      "cell_type": "markdown",
      "metadata": {
        "id": "juzCMHaGMtPE"
      },
      "source": [
        "# Simulations"
      ]
    },
    {
      "cell_type": "code",
      "metadata": {
        "id": "GilVn5hBNNGj"
      },
      "source": [
        "!mpirun --allow-run-as-root -np 2 lammps -in gruppo_7/TOLUENE_550_in.LJ_3D_NVT"
      ],
      "execution_count": null,
      "outputs": []
    },
    {
      "cell_type": "code",
      "metadata": {
        "id": "SZHQM0VjNNVb"
      },
      "source": [
        "!mpirun --allow-run-as-root -np 2 lammps -in gruppo_7/TOLUENE_573_in.LJ_3D_NVT"
      ],
      "execution_count": null,
      "outputs": []
    },
    {
      "cell_type": "code",
      "metadata": {
        "id": "FAFPbPEqNN2r"
      },
      "source": [
        "!mpirun --allow-run-as-root -np 2 lammps -in gruppo_7/TOLUENE_590_in.LJ_3D_NVT"
      ],
      "execution_count": null,
      "outputs": []
    },
    {
      "cell_type": "code",
      "metadata": {
        "id": "ZQZo643ZNM6N"
      },
      "source": [
        "!mpirun --allow-run-as-root -np 2 lammps -in gruppo_7/TOLUENE_620_in.LJ_3D_NVT"
      ],
      "execution_count": null,
      "outputs": []
    },
    {
      "cell_type": "code",
      "metadata": {
        "id": "JOo_YEsZ65K1"
      },
      "source": [
        "!mpirun --allow-run-as-root -np 2 lammps -in gruppo_7/TOLUENE_630_in.LJ_3D_NVT"
      ],
      "execution_count": null,
      "outputs": []
    },
    {
      "cell_type": "markdown",
      "metadata": {
        "id": "Er07fcZhNvw4"
      },
      "source": [
        "# Data Analysis"
      ]
    },
    {
      "cell_type": "markdown",
      "metadata": {
        "id": "HqrxRZsB0EJ1"
      },
      "source": [
        "## TOLUENE 550"
      ]
    },
    {
      "cell_type": "markdown",
      "metadata": {
        "id": "EI50tDtH1Ufw"
      },
      "source": [
        "### equilibration fluctuation"
      ]
    },
    {
      "cell_type": "code",
      "metadata": {
        "colab": {
          "base_uri": "https://localhost:8080/",
          "height": 295
        },
        "id": "Trgi_BSny8VU",
        "outputId": "f81a214d-487f-40be-9341-bdfa9cf98008"
      },
      "source": [
        "import numpy as np\n",
        "import matplotlib.pyplot as plt\n",
        "\n",
        "# Caricamento del file\n",
        "THERMO_file = np.genfromtxt('/content/gruppo_7/TOLUENE 550/thermodynamics_equilibration_550.dat', delimiter=' ')\n",
        "\n",
        "time = THERMO_file[:, 0]\n",
        "T = THERMO_file[:, 4]\n",
        "P = THERMO_file[:, 5]\n",
        "V = THERMO_file[:, 6]\n",
        "\n",
        "# Calcolo della media\n",
        "P_media = np.mean(P)\n",
        "\n",
        "# Plot della pressione e del suo valore medio\n",
        "plt.plot(time, P)\n",
        "plt.axhline(P_media)\n",
        "print('P_media: ', P_media)"
      ],
      "execution_count": 7,
      "outputs": [
        {
          "output_type": "stream",
          "text": [
            "P_media:  4.2567468316182335\n"
          ],
          "name": "stdout"
        },
        {
          "output_type": "display_data",
          "data": {
            "image/png": "[encoded data removed]",
            "text/plain": [
              "<Figure size 432x288 with 1 Axes>"
            ]
          },
          "metadata": {
            "tags": [],
            "needs_background": "light"
          }
        }
      ]
    },
    {
      "cell_type": "markdown",
      "metadata": {
        "id": "KgBRjF-Q0eUm"
      },
      "source": [
        "## TOLUENE 573"
      ]
    },
    {
      "cell_type": "markdown",
      "metadata": {
        "id": "6qpep3i61iob"
      },
      "source": [
        "### equilibration fluctuation"
      ]
    },
    {
      "cell_type": "code",
      "metadata": {
        "colab": {
          "base_uri": "https://localhost:8080/",
          "height": 392
        },
        "id": "omDneImc0eU0",
        "outputId": "7dc15866-af3a-43f3-bfec-f9e43f02d76e"
      },
      "source": [
        "import numpy as np\n",
        "import matplotlib.pyplot as plt\n",
        "\n",
        "# Caricamento del file\n",
        "THERMO_file = np.genfromtxt('/content/gruppo_7/TOLUENE 573/thermodynamics_equilibration_573.dat', delimiter=' ')\n",
        "\n",
        "time = THERMO_file[:, 0]\n",
        "T = THERMO_file[:, 4]\n",
        "P = THERMO_file[:, 5]\n",
        "V = THERMO_file[:, 6]\n",
        "\n",
        "# Calcolo della media\n",
        "P_media = np.mean(P)\n",
        "\n",
        "# Plot della pressione e del suo valore medio\n",
        "plt.plot(time, P)\n",
        "plt.axhline(P_media)\n",
        "print('P_media: ', P_media)"
      ],
      "execution_count": 8,
      "outputs": [
        {
          "output_type": "error",
          "ename": "OSError",
          "evalue": "ignored",
          "traceback": [
            "\u001b[0;31m---------------------------------------------------------------------------\u001b[0m",
            "\u001b[0;31mOSError\u001b[0m                                   Traceback (most recent call last)",
            "\u001b[0;32m<ipython-input-8-b230c34b2b0b>\u001b[0m in \u001b[0;36m<module>\u001b[0;34m()\u001b[0m\n\u001b[1;32m      3\u001b[0m \u001b[0;34m\u001b[0m\u001b[0m\n\u001b[1;32m      4\u001b[0m \u001b[0;31m# Caricamento del file\u001b[0m\u001b[0;34m\u001b[0m\u001b[0;34m\u001b[0m\u001b[0;34m\u001b[0m\u001b[0m\n\u001b[0;32m----> 5\u001b[0;31m \u001b[0mTHERMO_file\u001b[0m \u001b[0;34m=\u001b[0m \u001b[0mnp\u001b[0m\u001b[0;34m.\u001b[0m\u001b[0mgenfromtxt\u001b[0m\u001b[0;34m(\u001b[0m\u001b[0;34m'/content/gruppo_7/TOLUENE 573/thermodynamics_equilibration_573.dat'\u001b[0m\u001b[0;34m,\u001b[0m \u001b[0mdelimiter\u001b[0m\u001b[0;34m=\u001b[0m\u001b[0;34m' '\u001b[0m\u001b[0;34m)\u001b[0m\u001b[0;34m\u001b[0m\u001b[0;34m\u001b[0m\u001b[0m\n\u001b[0m\u001b[1;32m      6\u001b[0m \u001b[0;34m\u001b[0m\u001b[0m\n\u001b[1;32m      7\u001b[0m \u001b[0mtime\u001b[0m \u001b[0;34m=\u001b[0m \u001b[0mTHERMO_file\u001b[0m\u001b[0;34m[\u001b[0m\u001b[0;34m:\u001b[0m\u001b[0;34m,\u001b[0m \u001b[0;36m0\u001b[0m\u001b[0;34m]\u001b[0m\u001b[0;34m\u001b[0m\u001b[0;34m\u001b[0m\u001b[0m\n",
            "\u001b[0;32m/usr/local/lib/python3.7/dist-packages/numpy/lib/npyio.py\u001b[0m in \u001b[0;36mgenfromtxt\u001b[0;34m(fname, dtype, comments, delimiter, skip_header, skip_footer, converters, missing_values, filling_values, usecols, names, excludelist, deletechars, replace_space, autostrip, case_sensitive, defaultfmt, unpack, usemask, loose, invalid_raise, max_rows, encoding)\u001b[0m\n\u001b[1;32m   1747\u001b[0m             \u001b[0mfname\u001b[0m \u001b[0;34m=\u001b[0m \u001b[0mos_fspath\u001b[0m\u001b[0;34m(\u001b[0m\u001b[0mfname\u001b[0m\u001b[0;34m)\u001b[0m\u001b[0;34m\u001b[0m\u001b[0;34m\u001b[0m\u001b[0m\n\u001b[1;32m   1748\u001b[0m         \u001b[0;32mif\u001b[0m \u001b[0misinstance\u001b[0m\u001b[0;34m(\u001b[0m\u001b[0mfname\u001b[0m\u001b[0;34m,\u001b[0m \u001b[0mstr\u001b[0m\u001b[0;34m)\u001b[0m\u001b[0;34m:\u001b[0m\u001b[0;34m\u001b[0m\u001b[0;34m\u001b[0m\u001b[0m\n\u001b[0;32m-> 1749\u001b[0;31m             \u001b[0mfid\u001b[0m \u001b[0;34m=\u001b[0m \u001b[0mnp\u001b[0m\u001b[0;34m.\u001b[0m\u001b[0mlib\u001b[0m\u001b[0;34m.\u001b[0m\u001b[0m_datasource\u001b[0m\u001b[0;34m.\u001b[0m\u001b[0mopen\u001b[0m\u001b[0;34m(\u001b[0m\u001b[0mfname\u001b[0m\u001b[0;34m,\u001b[0m \u001b[0;34m'rt'\u001b[0m\u001b[0;34m,\u001b[0m \u001b[0mencoding\u001b[0m\u001b[0;34m=\u001b[0m\u001b[0mencoding\u001b[0m\u001b[0;34m)\u001b[0m\u001b[0;34m\u001b[0m\u001b[0;34m\u001b[0m\u001b[0m\n\u001b[0m\u001b[1;32m   1750\u001b[0m             \u001b[0mfid_ctx\u001b[0m \u001b[0;34m=\u001b[0m \u001b[0mcontextlib\u001b[0m\u001b[0;34m.\u001b[0m\u001b[0mclosing\u001b[0m\u001b[0;34m(\u001b[0m\u001b[0mfid\u001b[0m\u001b[0;34m)\u001b[0m\u001b[0;34m\u001b[0m\u001b[0;34m\u001b[0m\u001b[0m\n\u001b[1;32m   1751\u001b[0m         \u001b[0;32melse\u001b[0m\u001b[0;34m:\u001b[0m\u001b[0;34m\u001b[0m\u001b[0;34m\u001b[0m\u001b[0m\n",
            "\u001b[0;32m/usr/local/lib/python3.7/dist-packages/numpy/lib/_datasource.py\u001b[0m in \u001b[0;36mopen\u001b[0;34m(path, mode, destpath, encoding, newline)\u001b[0m\n\u001b[1;32m    193\u001b[0m \u001b[0;34m\u001b[0m\u001b[0m\n\u001b[1;32m    194\u001b[0m     \u001b[0mds\u001b[0m \u001b[0;34m=\u001b[0m \u001b[0mDataSource\u001b[0m\u001b[0;34m(\u001b[0m\u001b[0mdestpath\u001b[0m\u001b[0;34m)\u001b[0m\u001b[0;34m\u001b[0m\u001b[0;34m\u001b[0m\u001b[0m\n\u001b[0;32m--> 195\u001b[0;31m     \u001b[0;32mreturn\u001b[0m \u001b[0mds\u001b[0m\u001b[0;34m.\u001b[0m\u001b[0mopen\u001b[0m\u001b[0;34m(\u001b[0m\u001b[0mpath\u001b[0m\u001b[0;34m,\u001b[0m \u001b[0mmode\u001b[0m\u001b[0;34m,\u001b[0m \u001b[0mencoding\u001b[0m\u001b[0;34m=\u001b[0m\u001b[0mencoding\u001b[0m\u001b[0;34m,\u001b[0m \u001b[0mnewline\u001b[0m\u001b[0;34m=\u001b[0m\u001b[0mnewline\u001b[0m\u001b[0;34m)\u001b[0m\u001b[0;34m\u001b[0m\u001b[0;34m\u001b[0m\u001b[0m\n\u001b[0m\u001b[1;32m    196\u001b[0m \u001b[0;34m\u001b[0m\u001b[0m\n\u001b[1;32m    197\u001b[0m \u001b[0;34m\u001b[0m\u001b[0m\n",
            "\u001b[0;32m/usr/local/lib/python3.7/dist-packages/numpy/lib/_datasource.py\u001b[0m in \u001b[0;36mopen\u001b[0;34m(self, path, mode, encoding, newline)\u001b[0m\n\u001b[1;32m    533\u001b[0m                                       encoding=encoding, newline=newline)\n\u001b[1;32m    534\u001b[0m         \u001b[0;32melse\u001b[0m\u001b[0;34m:\u001b[0m\u001b[0;34m\u001b[0m\u001b[0;34m\u001b[0m\u001b[0m\n\u001b[0;32m--> 535\u001b[0;31m             \u001b[0;32mraise\u001b[0m \u001b[0mIOError\u001b[0m\u001b[0;34m(\u001b[0m\u001b[0;34m\"%s not found.\"\u001b[0m \u001b[0;34m%\u001b[0m \u001b[0mpath\u001b[0m\u001b[0;34m)\u001b[0m\u001b[0;34m\u001b[0m\u001b[0;34m\u001b[0m\u001b[0m\n\u001b[0m\u001b[1;32m    536\u001b[0m \u001b[0;34m\u001b[0m\u001b[0m\n\u001b[1;32m    537\u001b[0m \u001b[0;34m\u001b[0m\u001b[0m\n",
            "\u001b[0;31mOSError\u001b[0m: /content/gruppo_7/TOLUENE 573/thermodynamics_equilibration_573.dat not found."
          ]
        }
      ]
    },
    {
      "cell_type": "markdown",
      "metadata": {
        "id": "npq0cswP0gFe"
      },
      "source": [
        "## TOLUENE 590"
      ]
    },
    {
      "cell_type": "markdown",
      "metadata": {
        "id": "wnJt5XIR1k4r"
      },
      "source": [
        "### equilibration fluctuation"
      ]
    },
    {
      "cell_type": "code",
      "metadata": {
        "colab": {
          "base_uri": "https://localhost:8080/",
          "height": 295
        },
        "id": "rm_Pw8nE0gFf",
        "outputId": "0a4bd2b9-02e3-436e-e16b-8fb3dee42fb9"
      },
      "source": [
        "import numpy as np\n",
        "import matplotlib.pyplot as plt\n",
        "\n",
        "# Caricamento del file\n",
        "THERMO_file = np.genfromtxt('/content/gruppo_7/TOLUENE 590/thermodynamics_equilibration_590.dat', delimiter=' ')\n",
        "\n",
        "time = THERMO_file[:, 0]\n",
        "T = THERMO_file[:, 4]\n",
        "P = THERMO_file[:, 5]\n",
        "V = THERMO_file[:, 6]\n",
        "\n",
        "# Calcolo della media\n",
        "P_media = np.mean(P)\n",
        "\n",
        "# Plot della pressione e del suo valore medio\n",
        "plt.plot(time, P)\n",
        "plt.axhline(P_media)\n",
        "print('P_media: ', P_media)"
      ],
      "execution_count": 9,
      "outputs": [
        {
          "output_type": "stream",
          "text": [
            "P_media:  4.566109228019004\n"
          ],
          "name": "stdout"
        },
        {
          "output_type": "display_data",
          "data": {
            "image/png": "[encoded data removed]",
            "text/plain": [
              "<Figure size 432x288 with 1 Axes>"
            ]
          },
          "metadata": {
            "tags": [],
            "needs_background": "light"
          }
        }
      ]
    },
    {
      "cell_type": "markdown",
      "metadata": {
        "id": "-LmThc1d0gde"
      },
      "source": [
        "## TOLUENE 620"
      ]
    },
    {
      "cell_type": "markdown",
      "metadata": {
        "id": "zSVfrhdD1pm5"
      },
      "source": [
        "### equilibration fluctuation"
      ]
    },
    {
      "cell_type": "code",
      "metadata": {
        "colab": {
          "base_uri": "https://localhost:8080/",
          "height": 295
        },
        "id": "_oJrcqwm0gdf",
        "outputId": "2d550f37-2f01-4b1c-c398-3ab53ce916f8"
      },
      "source": [
        "import numpy as np\n",
        "import matplotlib.pyplot as plt\n",
        "\n",
        "# Caricamento del file\n",
        "THERMO_file = np.genfromtxt('/content/gruppo_7/TOLUENE 620/thermodynamics_equilibration_620.dat', delimiter=' ')\n",
        "\n",
        "time = THERMO_file[:, 0]\n",
        "T = THERMO_file[:, 4]\n",
        "P = THERMO_file[:, 5]\n",
        "V = THERMO_file[:, 6]\n",
        "\n",
        "# Calcolo della media\n",
        "P_media = np.mean(P)\n",
        "\n",
        "# Plot della pressione e del suo valore medio\n",
        "plt.plot(time, P)\n",
        "plt.axhline(P_media)\n",
        "print('P_media: ', P_media)"
      ],
      "execution_count": 10,
      "outputs": [
        {
          "output_type": "stream",
          "text": [
            "P_media:  4.79812569357397\n"
          ],
          "name": "stdout"
        },
        {
          "output_type": "display_data",
          "data": {
            "image/png": "[encoded data removed]",
            "text/plain": [
              "<Figure size 432x288 with 1 Axes>"
            ]
          },
          "metadata": {
            "tags": [],
            "needs_background": "light"
          }
        }
      ]
    },
    {
      "cell_type": "markdown",
      "metadata": {
        "id": "01AvL3jR0j1u"
      },
      "source": [
        "## TOLUENE 630"
      ]
    },
    {
      "cell_type": "markdown",
      "metadata": {
        "id": "0Fv5Cjsl1qpZ"
      },
      "source": [
        "### equilibration fluctuation"
      ]
    },
    {
      "cell_type": "code",
      "metadata": {
        "colab": {
          "base_uri": "https://localhost:8080/",
          "height": 295
        },
        "id": "JJ9pWGSL0j1v",
        "outputId": "ed3f76d6-e29d-4a58-ae74-5a208fec0983"
      },
      "source": [
        "import numpy as np\n",
        "import matplotlib.pyplot as plt\n",
        "\n",
        "# Caricamento del file\n",
        "THERMO_file = np.genfromtxt('/content/gruppo_7/TOLUENE 630/thermodynamics_equilibration_630.dat', delimiter=' ')\n",
        "\n",
        "time = THERMO_file[:, 0]\n",
        "T = THERMO_file[:, 4]\n",
        "P = THERMO_file[:, 5]\n",
        "V = THERMO_file[:, 6]\n",
        "\n",
        "# Calcolo della media\n",
        "P_media = np.mean(P)\n",
        "\n",
        "# Plot della pressione e del suo valore medio\n",
        "plt.plot(time, P)\n",
        "plt.axhline(P_media)\n",
        "print('P_media: ', P_media)"
      ],
      "execution_count": 11,
      "outputs": [
        {
          "output_type": "stream",
          "text": [
            "P_media:  4.878421665353952\n"
          ],
          "name": "stdout"
        },
        {
          "output_type": "display_data",
          "data": {
            "image/png": "[encoded data removed]",
            "text/plain": [
              "<Figure size 432x288 with 1 Axes>"
            ]
          },
          "metadata": {
            "tags": [],
            "needs_background": "light"
          }
        }
      ]
    }
  ]
}