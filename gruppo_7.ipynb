{
  "nbformat": 4,
  "nbformat_minor": 0,
  "metadata": {
    "colab": {
      "name": "gruppo_7.ipynb",
      "provenance": [],
      "toc_visible": true,
      "authorship_tag": "ABX9TyOKVUDyohDv7BveL/HPQTcy",
      "include_colab_link": true
    },
    "kernelspec": {
      "name": "python3",
      "display_name": "Python 3"
    },
    "language_info": {
      "name": "python"
    }
  },
  "cells": [
    {
      "cell_type": "markdown",
      "metadata": {
        "id": "view-in-github",
        "colab_type": "text"
      },
      "source": [
        "<a href=\"https://colab.research.google.com/github/pm6022/labnotebooks/blob/main/gruppo_7.ipynb\" target=\"_parent\"><img src=\"https://colab.research.google.com/assets/colab-badge.svg\" alt=\"Open In Colab\"/></a>"
      ]
    },
    {
      "cell_type": "markdown",
      "metadata": {
        "id": "ZHPr_2nsJiRd"
      },
      "source": [
        "# Setup "
      ]
    },
    {
      "cell_type": "markdown",
      "metadata": {
        "id": "HN4YZaeiKIqk"
      },
      "source": [
        "## Download scripts and results"
      ]
    },
    {
      "cell_type": "code",
      "metadata": {
        "id": "dvR6ElqlupWP",
        "outputId": "8e3014f7-d47e-467d-a59b-025a57b34c7a",
        "colab": {
          "base_uri": "https://localhost:8080/"
        }
      },
      "source": [
        "!git clone https://github.com/pm6022/gruppo_7"
      ],
      "execution_count": 1,
      "outputs": [
        {
          "output_type": "stream",
          "text": [
            "Cloning into 'gruppo_7'...\n",
            "remote: Enumerating objects: 56, done.\u001b[K\n",
            "remote: Counting objects: 100% (56/56), done.\u001b[K\n",
            "remote: Compressing objects: 100% (56/56), done.\u001b[K\n",
            "remote: Total 56 (delta 21), reused 0 (delta 0), pack-reused 0\u001b[K\n",
            "Unpacking objects: 100% (56/56), done.\n",
            "Checking out files: 100% (31/31), done.\n"
          ],
          "name": "stdout"
        }
      ]
    },
    {
      "cell_type": "markdown",
      "metadata": {
        "id": "aCup33VKKQN_"
      },
      "source": [
        "## Download LAMMPS"
      ]
    },
    {
      "cell_type": "code",
      "metadata": {
        "colab": {
          "base_uri": "https://localhost:8080/"
        },
        "id": "QGcXS1pX6byh",
        "outputId": "5d6f4b11-6c68-4c08-900e-19c70a127b7b"
      },
      "source": [
        "!apt-get install lammps"
      ],
      "execution_count": null,
      "outputs": [
        {
          "output_type": "stream",
          "text": [
            "Reading package lists... Done\n",
            "Building dependency tree       \n",
            "Reading state information... Done\n",
            "The following package was automatically installed and is no longer required:\n",
            "  libnvidia-common-460\n",
            "Use 'apt autoremove' to remove it.\n",
            "The following additional packages will be installed:\n",
            "  fonts-mathjax javascript-common lammps-doc libjs-jquery libjs-mathjax\n",
            "  libjs-underscore\n",
            "Suggested packages:\n",
            "  apache2 | lighttpd | httpd fonts-mathjax-extras fonts-stix libjs-mathjax-doc\n",
            "The following NEW packages will be installed:\n",
            "  fonts-mathjax javascript-common lammps lammps-doc libjs-jquery libjs-mathjax\n",
            "  libjs-underscore\n",
            "0 upgraded, 7 newly installed, 0 to remove and 34 not upgraded.\n",
            "Need to get 52.0 MB of archives.\n",
            "After this operation, 113 MB of additional disk space will be used.\n",
            "Get:1 http://archive.ubuntu.com/ubuntu bionic/universe amd64 fonts-mathjax all 2.7.3+dfsg-1 [2,208 kB]\n",
            "Get:2 http://archive.ubuntu.com/ubuntu bionic/main amd64 javascript-common all 11 [6,066 B]\n",
            "Get:3 http://archive.ubuntu.com/ubuntu bionic/main amd64 libjs-jquery all 3.2.1-1 [152 kB]\n",
            "Get:4 http://archive.ubuntu.com/ubuntu bionic-updates/main amd64 libjs-underscore all 1.8.3~dfsg-1ubuntu0.1 [60.4 kB]\n",
            "Get:5 http://archive.ubuntu.com/ubuntu bionic/universe amd64 lammps amd64 0~20161109.git9806da6-7 [3,896 kB]\n",
            "Get:6 http://archive.ubuntu.com/ubuntu bionic/universe amd64 libjs-mathjax all 2.7.3+dfsg-1 [5,653 kB]\n",
            "Get:7 http://archive.ubuntu.com/ubuntu bionic/universe amd64 lammps-doc all 0~20161109.git9806da6-7 [40.0 MB]\n",
            "Fetched 52.0 MB in 3s (18.9 MB/s)\n",
            "Selecting previously unselected package fonts-mathjax.\n",
            "(Reading database ... 160706 files and directories currently installed.)\n",
            "Preparing to unpack .../0-fonts-mathjax_2.7.3+dfsg-1_all.deb ...\n",
            "Unpacking fonts-mathjax (2.7.3+dfsg-1) ...\n",
            "Selecting previously unselected package javascript-common.\n",
            "Preparing to unpack .../1-javascript-common_11_all.deb ...\n",
            "Unpacking javascript-common (11) ...\n",
            "Selecting previously unselected package libjs-jquery.\n",
            "Preparing to unpack .../2-libjs-jquery_3.2.1-1_all.deb ...\n",
            "Unpacking libjs-jquery (3.2.1-1) ...\n",
            "Selecting previously unselected package libjs-underscore.\n",
            "Preparing to unpack .../3-libjs-underscore_1.8.3~dfsg-1ubuntu0.1_all.deb ...\n",
            "Unpacking libjs-underscore (1.8.3~dfsg-1ubuntu0.1) ...\n",
            "Selecting previously unselected package lammps.\n",
            "Preparing to unpack .../4-lammps_0~20161109.git9806da6-7_amd64.deb ...\n",
            "Unpacking lammps (0~20161109.git9806da6-7) ...\n",
            "Selecting previously unselected package libjs-mathjax.\n",
            "Preparing to unpack .../5-libjs-mathjax_2.7.3+dfsg-1_all.deb ...\n",
            "Unpacking libjs-mathjax (2.7.3+dfsg-1) ...\n",
            "Selecting previously unselected package lammps-doc.\n",
            "Preparing to unpack .../6-lammps-doc_0~20161109.git9806da6-7_all.deb ...\n",
            "Unpacking lammps-doc (0~20161109.git9806da6-7) ...\n",
            "Setting up libjs-jquery (3.2.1-1) ...\n",
            "Setting up fonts-mathjax (2.7.3+dfsg-1) ...\n",
            "Setting up libjs-underscore (1.8.3~dfsg-1ubuntu0.1) ...\n",
            "Setting up libjs-mathjax (2.7.3+dfsg-1) ...\n",
            "Setting up lammps-doc (0~20161109.git9806da6-7) ...\n",
            "Setting up lammps (0~20161109.git9806da6-7) ...\n",
            "Setting up javascript-common (11) ...\n",
            "Processing triggers for man-db (2.8.3-2ubuntu0.1) ...\n",
            "Processing triggers for fontconfig (2.12.6-0ubuntu2) ...\n"
          ],
          "name": "stdout"
        }
      ]
    },
    {
      "cell_type": "markdown",
      "metadata": {
        "id": "NoWv7cG1MA3A"
      },
      "source": [
        "## Compute parameters"
      ]
    },
    {
      "cell_type": "markdown",
      "metadata": {
        "id": "cI1kc_BcF41h"
      },
      "source": [
        "$\\frac{\\epsilon}{k_B} = \\frac{T_C}{1.32}$\n",
        "\n",
        "$\\sigma = \\biggl(\\frac{0.129 \\epsilon}{P_C}\\biggr)^{(1/3)}$\n",
        "\n",
        "$T_C = 593,75 K$\n",
        "\n",
        "$P_C = 41,6 atm$"
      ]
    },
    {
      "cell_type": "code",
      "metadata": {
        "colab": {
          "base_uri": "https://localhost:8080/"
        },
        "id": "oStE9uZCAX26",
        "outputId": "1bfb8e7f-e975-4088-9fa6-2cde254a02f9"
      },
      "source": [
        "Tc = 593.75 # K\n",
        "Pc = 41.6 # atm\n",
        "kb = 0.001985875\t# kcal/(K * mol)\n",
        "N = 1000\n",
        "Na = 6.022*10**(23) \n",
        "rho = 8.7 # kg/cum\n",
        "PM = 92.14\n",
        "\n",
        "eps = kb*Tc/1.32\n",
        "sigma = (0.129*eps/Pc)**(1/3)\n",
        "\n",
        "V = (N/Na*PM/1000)/rho*10**(30)\n",
        "L = V**(1/3)\n",
        "\n",
        "print('eps :', eps)\n",
        "print('sigma :', sigma)\n",
        "print('V :', V)\n",
        "print('L :', L)"
      ],
      "execution_count": null,
      "outputs": [
        {
          "output_type": "stream",
          "text": [
            "eps : 0.8932676373106059\n",
            "sigma : 0.14044059471712117\n",
            "V : 17586855.858022504\n",
            "L : 260.0535188547352\n"
          ],
          "name": "stdout"
        }
      ]
    },
    {
      "cell_type": "markdown",
      "metadata": {
        "id": "juzCMHaGMtPE"
      },
      "source": [
        "# Simulations"
      ]
    },
    {
      "cell_type": "code",
      "metadata": {
        "id": "GilVn5hBNNGj"
      },
      "source": [
        "!mpirun --allow-run-as-root -np 2 lammps -in TOLUENE_550_in.LJ_3D_NVT"
      ],
      "execution_count": null,
      "outputs": []
    },
    {
      "cell_type": "code",
      "metadata": {
        "id": "SZHQM0VjNNVb"
      },
      "source": [
        "!mpirun --allow-run-as-root -np 2 lammps -in TOLUENE_573_in.LJ_3D_NVT"
      ],
      "execution_count": null,
      "outputs": []
    },
    {
      "cell_type": "code",
      "metadata": {
        "id": "FAFPbPEqNN2r"
      },
      "source": [
        "!mpirun --allow-run-as-root -np 2 lammps -in TOLUENE_590_in.LJ_3D_NVT"
      ],
      "execution_count": null,
      "outputs": []
    },
    {
      "cell_type": "code",
      "metadata": {
        "id": "ZQZo643ZNM6N"
      },
      "source": [
        "!mpirun --allow-run-as-root -np 2 lammps -in TOLUENE_620_in.LJ_3D_NVT"
      ],
      "execution_count": null,
      "outputs": []
    },
    {
      "cell_type": "code",
      "metadata": {
        "id": "JOo_YEsZ65K1"
      },
      "source": [
        "!mpirun --allow-run-as-root -np 2 lammps -in TOLUENE_630_in.LJ_3D_NVT"
      ],
      "execution_count": null,
      "outputs": []
    },
    {
      "cell_type": "markdown",
      "metadata": {
        "id": "Er07fcZhNvw4"
      },
      "source": [
        "# Data Analysis"
      ]
    }
  ]
}